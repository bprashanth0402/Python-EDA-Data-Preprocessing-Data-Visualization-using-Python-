{
 "cells": [
  {
   "cell_type": "markdown",
   "id": "fe50b662",
   "metadata": {},
   "source": [
    "![New_GL_logo.png](data:image/png;base64,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)\n",
    "\n",
    "Proprietary content. © Great Learning. All Rights Reserved. Unauthorized use or distribution prohibited."
   ]
  },
  {
   "cell_type": "markdown",
   "id": "058c59d7",
   "metadata": {},
   "source": [
    "\n",
    "# EDA & Data Preprocessing on Google App Store Rating Dataset."
   ]
  },
  {
   "cell_type": "markdown",
   "id": "4f880bff",
   "metadata": {},
   "source": [
    "# <font color = 'green'> **1. Import required libraries and read the dataset.**"
   ]
  },
  {
   "cell_type": "code",
   "execution_count": 4,
   "id": "de34b311",
   "metadata": {},
   "outputs": [],
   "source": [
    "# Import required libraries\n",
    "import numpy as np\n",
    "import pandas as pd\n",
    "import seaborn as sns\n",
    "import matplotlib.pyplot as plt\n",
    "import warnings\n",
    "warnings.filterwarnings(\"ignore\")\n",
    "from PIL import Image \n",
    "from sklearn.preprocessing import LabelEncoder\n"
   ]
  },
  {
   "cell_type": "code",
   "execution_count": 5,
   "id": "e70da7f1",
   "metadata": {},
   "outputs": [],
   "source": [
    "# Read the dataset\n",
    "df = pd.read_csv('Apps_data+(1).csv')"
   ]
  },
  {
   "cell_type": "markdown",
   "id": "d5d10dca",
   "metadata": {},
   "source": [
    "# <font color = 'green'> **2. Check the first few samples, shape, info of the data and try to familiarize yourself with different features.**"
   ]
  },
  {
   "cell_type": "code",
   "execution_count": 6,
   "id": "2cbdc8a1",
   "metadata": {},
   "outputs": [
    {
     "data": {
      "text/html": [
       "<div>\n",
       "<style scoped>\n",
       "    .dataframe tbody tr th:only-of-type {\n",
       "        vertical-align: middle;\n",
       "    }\n",
       "\n",
       "    .dataframe tbody tr th {\n",
       "        vertical-align: top;\n",
       "    }\n",
       "\n",
       "    .dataframe thead th {\n",
       "        text-align: right;\n",
       "    }\n",
       "</style>\n",
       "<table border=\"1\" class=\"dataframe\">\n",
       "  <thead>\n",
       "    <tr style=\"text-align: right;\">\n",
       "      <th></th>\n",
       "      <th>App</th>\n",
       "      <th>Category</th>\n",
       "      <th>Rating</th>\n",
       "      <th>Reviews</th>\n",
       "      <th>Size</th>\n",
       "      <th>Installs</th>\n",
       "      <th>Type</th>\n",
       "      <th>Price</th>\n",
       "      <th>Content Rating</th>\n",
       "      <th>Genres</th>\n",
       "      <th>Last Updated</th>\n",
       "      <th>Current Ver</th>\n",
       "      <th>Android Ver</th>\n",
       "    </tr>\n",
       "  </thead>\n",
       "  <tbody>\n",
       "    <tr>\n",
       "      <th>4403</th>\n",
       "      <td>Dark Infusion Substratum Theme for Android N &amp; O</td>\n",
       "      <td>PERSONALIZATION</td>\n",
       "      <td>4.8</td>\n",
       "      <td>133</td>\n",
       "      <td>59M</td>\n",
       "      <td>1,000+</td>\n",
       "      <td>Paid</td>\n",
       "      <td>$2.49</td>\n",
       "      <td>Everyone</td>\n",
       "      <td>Personalization</td>\n",
       "      <td>August 3, 2018</td>\n",
       "      <td>15.6</td>\n",
       "      <td>7.0 and up</td>\n",
       "    </tr>\n",
       "    <tr>\n",
       "      <th>5890</th>\n",
       "      <td>Graffiti Letters (A-Z)</td>\n",
       "      <td>LIFESTYLE</td>\n",
       "      <td>3.9</td>\n",
       "      <td>386</td>\n",
       "      <td>7.9M</td>\n",
       "      <td>50,000+</td>\n",
       "      <td>Free</td>\n",
       "      <td>0</td>\n",
       "      <td>Everyone</td>\n",
       "      <td>Lifestyle</td>\n",
       "      <td>February 18, 2017</td>\n",
       "      <td>2.1.5</td>\n",
       "      <td>4.0 and up</td>\n",
       "    </tr>\n",
       "    <tr>\n",
       "      <th>9342</th>\n",
       "      <td>Fashion Pony Girls Dress Up Makeup Game</td>\n",
       "      <td>FAMILY</td>\n",
       "      <td>4.5</td>\n",
       "      <td>256</td>\n",
       "      <td>30M</td>\n",
       "      <td>10,000+</td>\n",
       "      <td>Free</td>\n",
       "      <td>0</td>\n",
       "      <td>Everyone</td>\n",
       "      <td>Simulation</td>\n",
       "      <td>July 13, 2018</td>\n",
       "      <td>1.7</td>\n",
       "      <td>4.0 and up</td>\n",
       "    </tr>\n",
       "    <tr>\n",
       "      <th>2621</th>\n",
       "      <td>LinkedIn</td>\n",
       "      <td>SOCIAL</td>\n",
       "      <td>4.2</td>\n",
       "      <td>1225367</td>\n",
       "      <td>Varies with device</td>\n",
       "      <td>100,000,000+</td>\n",
       "      <td>Free</td>\n",
       "      <td>0</td>\n",
       "      <td>Everyone</td>\n",
       "      <td>Social</td>\n",
       "      <td>August 2, 2018</td>\n",
       "      <td>4.1.202</td>\n",
       "      <td>5.0 and up</td>\n",
       "    </tr>\n",
       "    <tr>\n",
       "      <th>7697</th>\n",
       "      <td>CP Installer App</td>\n",
       "      <td>BUSINESS</td>\n",
       "      <td>5.0</td>\n",
       "      <td>4</td>\n",
       "      <td>24M</td>\n",
       "      <td>100+</td>\n",
       "      <td>Free</td>\n",
       "      <td>0</td>\n",
       "      <td>Everyone</td>\n",
       "      <td>Business</td>\n",
       "      <td>July 24, 2018</td>\n",
       "      <td>5.1.1</td>\n",
       "      <td>4.1 and up</td>\n",
       "    </tr>\n",
       "  </tbody>\n",
       "</table>\n",
       "</div>"
      ],
      "text/plain": [
       "                                                   App         Category  \\\n",
       "4403  Dark Infusion Substratum Theme for Android N & O  PERSONALIZATION   \n",
       "5890                            Graffiti Letters (A-Z)        LIFESTYLE   \n",
       "9342           Fashion Pony Girls Dress Up Makeup Game           FAMILY   \n",
       "2621                                          LinkedIn           SOCIAL   \n",
       "7697                                  CP Installer App         BUSINESS   \n",
       "\n",
       "      Rating  Reviews                Size      Installs  Type  Price  \\\n",
       "4403     4.8      133                 59M        1,000+  Paid  $2.49   \n",
       "5890     3.9      386                7.9M       50,000+  Free      0   \n",
       "9342     4.5      256                 30M       10,000+  Free      0   \n",
       "2621     4.2  1225367  Varies with device  100,000,000+  Free      0   \n",
       "7697     5.0        4                 24M          100+  Free      0   \n",
       "\n",
       "     Content Rating           Genres       Last Updated Current Ver  \\\n",
       "4403       Everyone  Personalization     August 3, 2018        15.6   \n",
       "5890       Everyone        Lifestyle  February 18, 2017       2.1.5   \n",
       "9342       Everyone       Simulation      July 13, 2018         1.7   \n",
       "2621       Everyone           Social     August 2, 2018     4.1.202   \n",
       "7697       Everyone         Business      July 24, 2018       5.1.1   \n",
       "\n",
       "     Android Ver  \n",
       "4403  7.0 and up  \n",
       "5890  4.0 and up  \n",
       "9342  4.0 and up  \n",
       "2621  5.0 and up  \n",
       "7697  4.1 and up  "
      ]
     },
     "execution_count": 6,
     "metadata": {},
     "output_type": "execute_result"
    }
   ],
   "source": [
    "#Sample\n",
    "df.sample(5)"
   ]
  },
  {
   "cell_type": "code",
   "execution_count": 7,
   "id": "575efe77",
   "metadata": {},
   "outputs": [
    {
     "data": {
      "text/plain": [
       "(10841, 13)"
      ]
     },
     "execution_count": 7,
     "metadata": {},
     "output_type": "execute_result"
    }
   ],
   "source": [
    "#shape\n",
    "df.shape"
   ]
  },
  {
   "cell_type": "code",
   "execution_count": 8,
   "id": "4a591b5b",
   "metadata": {},
   "outputs": [
    {
     "name": "stdout",
     "output_type": "stream",
     "text": [
      "<class 'pandas.core.frame.DataFrame'>\n",
      "RangeIndex: 10841 entries, 0 to 10840\n",
      "Data columns (total 13 columns):\n",
      " #   Column          Non-Null Count  Dtype  \n",
      "---  ------          --------------  -----  \n",
      " 0   App             10841 non-null  object \n",
      " 1   Category        10841 non-null  object \n",
      " 2   Rating          9367 non-null   float64\n",
      " 3   Reviews         10841 non-null  object \n",
      " 4   Size            10841 non-null  object \n",
      " 5   Installs        10841 non-null  object \n",
      " 6   Type            10840 non-null  object \n",
      " 7   Price           10841 non-null  object \n",
      " 8   Content Rating  10840 non-null  object \n",
      " 9   Genres          10841 non-null  object \n",
      " 10  Last Updated    10841 non-null  object \n",
      " 11  Current Ver     10833 non-null  object \n",
      " 12  Android Ver     10838 non-null  object \n",
      "dtypes: float64(1), object(12)\n",
      "memory usage: 1.1+ MB\n"
     ]
    }
   ],
   "source": [
    "#info\n",
    "df.info()"
   ]
  },
  {
   "cell_type": "markdown",
   "id": "3132986c",
   "metadata": {},
   "source": [
    "# <font color = 'green'> **3. Check summary statistics of the dataset. List out the columns that need to be worked upon for model building.**"
   ]
  },
  {
   "cell_type": "code",
   "execution_count": 9,
   "id": "3229e737",
   "metadata": {},
   "outputs": [
    {
     "data": {
      "text/html": [
       "<div>\n",
       "<style scoped>\n",
       "    .dataframe tbody tr th:only-of-type {\n",
       "        vertical-align: middle;\n",
       "    }\n",
       "\n",
       "    .dataframe tbody tr th {\n",
       "        vertical-align: top;\n",
       "    }\n",
       "\n",
       "    .dataframe thead th {\n",
       "        text-align: right;\n",
       "    }\n",
       "</style>\n",
       "<table border=\"1\" class=\"dataframe\">\n",
       "  <thead>\n",
       "    <tr style=\"text-align: right;\">\n",
       "      <th></th>\n",
       "      <th>Rating</th>\n",
       "    </tr>\n",
       "  </thead>\n",
       "  <tbody>\n",
       "    <tr>\n",
       "      <th>count</th>\n",
       "      <td>9367.000000</td>\n",
       "    </tr>\n",
       "    <tr>\n",
       "      <th>mean</th>\n",
       "      <td>4.193338</td>\n",
       "    </tr>\n",
       "    <tr>\n",
       "      <th>std</th>\n",
       "      <td>0.537431</td>\n",
       "    </tr>\n",
       "    <tr>\n",
       "      <th>min</th>\n",
       "      <td>1.000000</td>\n",
       "    </tr>\n",
       "    <tr>\n",
       "      <th>25%</th>\n",
       "      <td>4.000000</td>\n",
       "    </tr>\n",
       "    <tr>\n",
       "      <th>50%</th>\n",
       "      <td>4.300000</td>\n",
       "    </tr>\n",
       "    <tr>\n",
       "      <th>75%</th>\n",
       "      <td>4.500000</td>\n",
       "    </tr>\n",
       "    <tr>\n",
       "      <th>max</th>\n",
       "      <td>19.000000</td>\n",
       "    </tr>\n",
       "  </tbody>\n",
       "</table>\n",
       "</div>"
      ],
      "text/plain": [
       "            Rating\n",
       "count  9367.000000\n",
       "mean      4.193338\n",
       "std       0.537431\n",
       "min       1.000000\n",
       "25%       4.000000\n",
       "50%       4.300000\n",
       "75%       4.500000\n",
       "max      19.000000"
      ]
     },
     "execution_count": 9,
     "metadata": {},
     "output_type": "execute_result"
    }
   ],
   "source": [
    "# Summary Statistics for numrical Column\n",
    "df.describe()"
   ]
  },
  {
   "cell_type": "code",
   "execution_count": 10,
   "id": "1a594cfe",
   "metadata": {},
   "outputs": [
    {
     "data": {
      "text/html": [
       "<div>\n",
       "<style scoped>\n",
       "    .dataframe tbody tr th:only-of-type {\n",
       "        vertical-align: middle;\n",
       "    }\n",
       "\n",
       "    .dataframe tbody tr th {\n",
       "        vertical-align: top;\n",
       "    }\n",
       "\n",
       "    .dataframe thead th {\n",
       "        text-align: right;\n",
       "    }\n",
       "</style>\n",
       "<table border=\"1\" class=\"dataframe\">\n",
       "  <thead>\n",
       "    <tr style=\"text-align: right;\">\n",
       "      <th></th>\n",
       "      <th>App</th>\n",
       "      <th>Category</th>\n",
       "      <th>Reviews</th>\n",
       "      <th>Size</th>\n",
       "      <th>Installs</th>\n",
       "      <th>Type</th>\n",
       "      <th>Price</th>\n",
       "      <th>Content Rating</th>\n",
       "      <th>Genres</th>\n",
       "      <th>Last Updated</th>\n",
       "      <th>Current Ver</th>\n",
       "      <th>Android Ver</th>\n",
       "    </tr>\n",
       "  </thead>\n",
       "  <tbody>\n",
       "    <tr>\n",
       "      <th>count</th>\n",
       "      <td>10841</td>\n",
       "      <td>10841</td>\n",
       "      <td>10841</td>\n",
       "      <td>10841</td>\n",
       "      <td>10841</td>\n",
       "      <td>10840</td>\n",
       "      <td>10841</td>\n",
       "      <td>10840</td>\n",
       "      <td>10841</td>\n",
       "      <td>10841</td>\n",
       "      <td>10833</td>\n",
       "      <td>10838</td>\n",
       "    </tr>\n",
       "    <tr>\n",
       "      <th>unique</th>\n",
       "      <td>9660</td>\n",
       "      <td>34</td>\n",
       "      <td>6002</td>\n",
       "      <td>462</td>\n",
       "      <td>22</td>\n",
       "      <td>3</td>\n",
       "      <td>93</td>\n",
       "      <td>6</td>\n",
       "      <td>120</td>\n",
       "      <td>1378</td>\n",
       "      <td>2832</td>\n",
       "      <td>33</td>\n",
       "    </tr>\n",
       "    <tr>\n",
       "      <th>top</th>\n",
       "      <td>ROBLOX</td>\n",
       "      <td>FAMILY</td>\n",
       "      <td>0</td>\n",
       "      <td>Varies with device</td>\n",
       "      <td>1,000,000+</td>\n",
       "      <td>Free</td>\n",
       "      <td>0</td>\n",
       "      <td>Everyone</td>\n",
       "      <td>Tools</td>\n",
       "      <td>August 3, 2018</td>\n",
       "      <td>Varies with device</td>\n",
       "      <td>4.1 and up</td>\n",
       "    </tr>\n",
       "    <tr>\n",
       "      <th>freq</th>\n",
       "      <td>9</td>\n",
       "      <td>1972</td>\n",
       "      <td>596</td>\n",
       "      <td>1695</td>\n",
       "      <td>1579</td>\n",
       "      <td>10039</td>\n",
       "      <td>10040</td>\n",
       "      <td>8714</td>\n",
       "      <td>842</td>\n",
       "      <td>326</td>\n",
       "      <td>1459</td>\n",
       "      <td>2451</td>\n",
       "    </tr>\n",
       "  </tbody>\n",
       "</table>\n",
       "</div>"
      ],
      "text/plain": [
       "           App Category Reviews                Size    Installs   Type  Price  \\\n",
       "count    10841    10841   10841               10841       10841  10840  10841   \n",
       "unique    9660       34    6002                 462          22      3     93   \n",
       "top     ROBLOX   FAMILY       0  Varies with device  1,000,000+   Free      0   \n",
       "freq         9     1972     596                1695        1579  10039  10040   \n",
       "\n",
       "       Content Rating Genres    Last Updated         Current Ver Android Ver  \n",
       "count           10840  10841           10841               10833       10838  \n",
       "unique              6    120            1378                2832          33  \n",
       "top          Everyone  Tools  August 3, 2018  Varies with device  4.1 and up  \n",
       "freq             8714    842             326                1459        2451  "
      ]
     },
     "execution_count": 10,
     "metadata": {},
     "output_type": "execute_result"
    }
   ],
   "source": [
    "# Summary Statistics for categorical Column\n",
    "df.describe(include=object)"
   ]
  },
  {
   "cell_type": "markdown",
   "id": "e8432dc0",
   "metadata": {},
   "source": [
    "# The columns that need to be worked upon for model building\n",
    "'Category', 'Reviews', 'Size', 'Installs', 'Type', 'Price','Content Rating'"
   ]
  },
  {
   "cell_type": "markdown",
   "id": "99f7774d",
   "metadata": {},
   "source": [
    "# <font color = 'green'> **4. Check if there are any duplicate records in the dataset? if any drop them.**"
   ]
  },
  {
   "cell_type": "code",
   "execution_count": 11,
   "id": "603d6751",
   "metadata": {},
   "outputs": [
    {
     "data": {
      "text/plain": [
       "483"
      ]
     },
     "execution_count": 11,
     "metadata": {},
     "output_type": "execute_result"
    }
   ],
   "source": [
    "# Check the duplicate Values\n",
    "df.duplicated().sum()"
   ]
  },
  {
   "cell_type": "code",
   "execution_count": 12,
   "id": "c109e0a1",
   "metadata": {},
   "outputs": [],
   "source": [
    "# Drop the duplicates\n",
    "df.drop_duplicates(keep='last',inplace=True)"
   ]
  },
  {
   "cell_type": "code",
   "execution_count": 13,
   "id": "f58c9747",
   "metadata": {},
   "outputs": [
    {
     "data": {
      "text/plain": [
       "0"
      ]
     },
     "execution_count": 13,
     "metadata": {},
     "output_type": "execute_result"
    }
   ],
   "source": [
    "# Recheck Whether Duplicates are droped \n",
    "df.duplicated().sum()"
   ]
  },
  {
   "cell_type": "code",
   "execution_count": 14,
   "id": "129c9b02",
   "metadata": {},
   "outputs": [
    {
     "data": {
      "text/plain": [
       "(10358, 13)"
      ]
     },
     "execution_count": 14,
     "metadata": {},
     "output_type": "execute_result"
    }
   ],
   "source": [
    "df.shape"
   ]
  },
  {
   "cell_type": "markdown",
   "id": "c4c606e8",
   "metadata": {},
   "source": [
    "# <font color = 'green'> **5. Check the unique categories of the column 'Category', Is there any invalid category? If yes, drop them.**"
   ]
  },
  {
   "cell_type": "code",
   "execution_count": 15,
   "id": "96644328",
   "metadata": {},
   "outputs": [
    {
     "data": {
      "text/plain": [
       "Category\n",
       "FAMILY                 1943\n",
       "GAME                   1121\n",
       "TOOLS                   843\n",
       "BUSINESS                427\n",
       "MEDICAL                 408\n",
       "PRODUCTIVITY            407\n",
       "PERSONALIZATION         388\n",
       "LIFESTYLE               373\n",
       "COMMUNICATION           366\n",
       "FINANCE                 360\n",
       "SPORTS                  351\n",
       "PHOTOGRAPHY             322\n",
       "HEALTH_AND_FITNESS      306\n",
       "SOCIAL                  280\n",
       "NEWS_AND_MAGAZINES      264\n",
       "TRAVEL_AND_LOCAL        237\n",
       "BOOKS_AND_REFERENCE     230\n",
       "SHOPPING                224\n",
       "DATING                  196\n",
       "VIDEO_PLAYERS           175\n",
       "MAPS_AND_NAVIGATION     137\n",
       "EDUCATION               130\n",
       "FOOD_AND_DRINK          124\n",
       "ENTERTAINMENT           111\n",
       "AUTO_AND_VEHICLES        85\n",
       "LIBRARIES_AND_DEMO       85\n",
       "WEATHER                  82\n",
       "HOUSE_AND_HOME           80\n",
       "ART_AND_DESIGN           65\n",
       "EVENTS                   64\n",
       "PARENTING                60\n",
       "COMICS                   60\n",
       "BEAUTY                   53\n",
       "1.9                       1\n",
       "Name: count, dtype: int64"
      ]
     },
     "execution_count": 15,
     "metadata": {},
     "output_type": "execute_result"
    }
   ],
   "source": [
    "# Unique \n",
    "df['Category'].value_counts()"
   ]
  },
  {
   "cell_type": "code",
   "execution_count": 16,
   "id": "e6810529",
   "metadata": {},
   "outputs": [],
   "source": [
    "df = df.drop(df[df['Category']=='1.9'].index)"
   ]
  },
  {
   "cell_type": "code",
   "execution_count": 17,
   "id": "e59c4d6d",
   "metadata": {},
   "outputs": [
    {
     "data": {
      "text/plain": [
       "Category\n",
       "FAMILY                 1943\n",
       "GAME                   1121\n",
       "TOOLS                   843\n",
       "BUSINESS                427\n",
       "MEDICAL                 408\n",
       "PRODUCTIVITY            407\n",
       "PERSONALIZATION         388\n",
       "LIFESTYLE               373\n",
       "COMMUNICATION           366\n",
       "FINANCE                 360\n",
       "SPORTS                  351\n",
       "PHOTOGRAPHY             322\n",
       "HEALTH_AND_FITNESS      306\n",
       "SOCIAL                  280\n",
       "NEWS_AND_MAGAZINES      264\n",
       "TRAVEL_AND_LOCAL        237\n",
       "BOOKS_AND_REFERENCE     230\n",
       "SHOPPING                224\n",
       "DATING                  196\n",
       "VIDEO_PLAYERS           175\n",
       "MAPS_AND_NAVIGATION     137\n",
       "EDUCATION               130\n",
       "FOOD_AND_DRINK          124\n",
       "ENTERTAINMENT           111\n",
       "AUTO_AND_VEHICLES        85\n",
       "LIBRARIES_AND_DEMO       85\n",
       "WEATHER                  82\n",
       "HOUSE_AND_HOME           80\n",
       "ART_AND_DESIGN           65\n",
       "EVENTS                   64\n",
       "PARENTING                60\n",
       "COMICS                   60\n",
       "BEAUTY                   53\n",
       "Name: count, dtype: int64"
      ]
     },
     "execution_count": 17,
     "metadata": {},
     "output_type": "execute_result"
    }
   ],
   "source": [
    "df['Category'].value_counts()"
   ]
  },
  {
   "cell_type": "markdown",
   "id": "ad368c15",
   "metadata": {},
   "source": [
    "# <font color = 'green'> **6. Check if there are missing values present in the column Rating, If any? drop them and and create a new column as 'Rating_category' by converting ratings to high and low categories(>3.5 is high rest low)**"
   ]
  },
  {
   "cell_type": "code",
   "execution_count": 18,
   "id": "c6677a16",
   "metadata": {},
   "outputs": [
    {
     "data": {
      "text/plain": [
       "1465"
      ]
     },
     "execution_count": 18,
     "metadata": {},
     "output_type": "execute_result"
    }
   ],
   "source": [
    "df['Rating'].isnull().sum()\n"
   ]
  },
  {
   "cell_type": "code",
   "execution_count": 19,
   "id": "c35aab33",
   "metadata": {},
   "outputs": [],
   "source": [
    "df=df.drop(df[df['Rating'].isnull()].index)"
   ]
  },
  {
   "cell_type": "code",
   "execution_count": 20,
   "id": "f481eef4",
   "metadata": {},
   "outputs": [
    {
     "data": {
      "text/plain": [
       "0"
      ]
     },
     "execution_count": 20,
     "metadata": {},
     "output_type": "execute_result"
    }
   ],
   "source": [
    "df['Rating'].isna().sum()"
   ]
  },
  {
   "cell_type": "code",
   "execution_count": 21,
   "id": "e915392c",
   "metadata": {},
   "outputs": [],
   "source": [
    "df['Rating_category'] = df['Rating'].apply(lambda x:\"high\" if x > 3.5 else \"low\")"
   ]
  },
  {
   "cell_type": "code",
   "execution_count": 22,
   "id": "17a5b0c7",
   "metadata": {},
   "outputs": [
    {
     "data": {
      "text/plain": [
       "(8892, 14)"
      ]
     },
     "execution_count": 22,
     "metadata": {},
     "output_type": "execute_result"
    }
   ],
   "source": [
    "df.shape"
   ]
  },
  {
   "cell_type": "markdown",
   "id": "3fcae5b7",
   "metadata": {},
   "source": [
    "# <font color = 'green'> **7. Check the distribution of the newly created column 'Rating_category' and comment on the distribution.**"
   ]
  },
  {
   "cell_type": "code",
   "execution_count": 23,
   "id": "a801f349",
   "metadata": {},
   "outputs": [
    {
     "data": {
      "image/png": "[encoded data removed]",
      "text/plain": [
       "<Figure size 640x480 with 1 Axes>"
      ]
     },
     "metadata": {},
     "output_type": "display_data"
    }
   ],
   "source": [
    "sns.histplot(df['Rating_category'])\n",
    "plt.show()"
   ]
  },
  {
   "cell_type": "markdown",
   "id": "139a4b7e",
   "metadata": {},
   "source": [
    "from the above Histogram we can see that the  distribution of the column 'Rating_category'\n",
    "the count of Apps having High rating is more as compare to Apps having low rating."
   ]
  },
  {
   "cell_type": "markdown",
   "id": "5b974f31",
   "metadata": {},
   "source": [
    "# <font color = 'green'> **8. Convert the column \"Reviews'' to numeric data type and check the presence of outliers in the column and handle the outliers using a transformation approach.(Hint: Use log transformation)**"
   ]
  },
  {
   "cell_type": "code",
   "execution_count": 24,
   "id": "8f0b85dc",
   "metadata": {},
   "outputs": [],
   "source": [
    "df['Reviews'] = df['Reviews'].astype(int)"
   ]
  },
  {
   "cell_type": "code",
   "execution_count": 25,
   "id": "e1af831c",
   "metadata": {},
   "outputs": [
    {
     "data": {
      "image/png": "[encoded data removed]",
      "text/plain": [
       "<Figure size 640x480 with 1 Axes>"
      ]
     },
     "metadata": {},
     "output_type": "display_data"
    }
   ],
   "source": [
    "sns.boxplot(df['Reviews'])\n",
    "plt.show()"
   ]
  },
  {
   "cell_type": "code",
   "execution_count": 26,
   "id": "25edb0d6",
   "metadata": {},
   "outputs": [],
   "source": [
    "#log transformation\n",
    "df['Reviews']=np.log(df['Reviews'])"
   ]
  },
  {
   "cell_type": "code",
   "execution_count": 27,
   "id": "63f8e26d",
   "metadata": {},
   "outputs": [
    {
     "data": {
      "image/png": "[encoded data removed]",
      "text/plain": [
       "<Figure size 640x480 with 1 Axes>"
      ]
     },
     "metadata": {},
     "output_type": "display_data"
    }
   ],
   "source": [
    "sns.boxplot(df['Reviews'])\n",
    "plt.show()"
   ]
  },
  {
   "cell_type": "markdown",
   "id": "4c0fab85",
   "metadata": {},
   "source": [
    "# <font color = 'green'> **# <font color = 'green'> **9. The column 'Size' contains alphanumeric values, treat the non numeric data and convert the column into suitable data type. (hint: Replace M with 1 million and K with 1 thousand, and drop the entries where size='Varies with device')****"
   ]
  },
  {
   "cell_type": "code",
   "execution_count": 28,
   "id": "7bfbccb9",
   "metadata": {},
   "outputs": [
    {
     "data": {
      "text/html": [
       "<div>\n",
       "<style scoped>\n",
       "    .dataframe tbody tr th:only-of-type {\n",
       "        vertical-align: middle;\n",
       "    }\n",
       "\n",
       "    .dataframe tbody tr th {\n",
       "        vertical-align: top;\n",
       "    }\n",
       "\n",
       "    .dataframe thead th {\n",
       "        text-align: right;\n",
       "    }\n",
       "</style>\n",
       "<table border=\"1\" class=\"dataframe\">\n",
       "  <thead>\n",
       "    <tr style=\"text-align: right;\">\n",
       "      <th></th>\n",
       "      <th>App</th>\n",
       "      <th>Category</th>\n",
       "      <th>Rating</th>\n",
       "      <th>Reviews</th>\n",
       "      <th>Size</th>\n",
       "      <th>Installs</th>\n",
       "      <th>Type</th>\n",
       "      <th>Price</th>\n",
       "      <th>Content Rating</th>\n",
       "      <th>Genres</th>\n",
       "      <th>Last Updated</th>\n",
       "      <th>Current Ver</th>\n",
       "      <th>Android Ver</th>\n",
       "      <th>Rating_category</th>\n",
       "    </tr>\n",
       "  </thead>\n",
       "  <tbody>\n",
       "    <tr>\n",
       "      <th>0</th>\n",
       "      <td>Photo Editor &amp; Candy Camera &amp; Grid &amp; ScrapBook</td>\n",
       "      <td>ART_AND_DESIGN</td>\n",
       "      <td>4.1</td>\n",
       "      <td>5.068904</td>\n",
       "      <td>19M</td>\n",
       "      <td>10,000+</td>\n",
       "      <td>Free</td>\n",
       "      <td>0</td>\n",
       "      <td>Everyone</td>\n",
       "      <td>Art &amp; Design</td>\n",
       "      <td>January 7, 2018</td>\n",
       "      <td>1.0.0</td>\n",
       "      <td>4.0.3 and up</td>\n",
       "      <td>high</td>\n",
       "    </tr>\n",
       "    <tr>\n",
       "      <th>1</th>\n",
       "      <td>Coloring book moana</td>\n",
       "      <td>ART_AND_DESIGN</td>\n",
       "      <td>3.9</td>\n",
       "      <td>6.874198</td>\n",
       "      <td>14M</td>\n",
       "      <td>500,000+</td>\n",
       "      <td>Free</td>\n",
       "      <td>0</td>\n",
       "      <td>Everyone</td>\n",
       "      <td>Art &amp; Design;Pretend Play</td>\n",
       "      <td>January 15, 2018</td>\n",
       "      <td>2.0.0</td>\n",
       "      <td>4.0.3 and up</td>\n",
       "      <td>high</td>\n",
       "    </tr>\n",
       "    <tr>\n",
       "      <th>2</th>\n",
       "      <td>U Launcher Lite – FREE Live Cool Themes, Hide ...</td>\n",
       "      <td>ART_AND_DESIGN</td>\n",
       "      <td>4.7</td>\n",
       "      <td>11.379508</td>\n",
       "      <td>8.7M</td>\n",
       "      <td>5,000,000+</td>\n",
       "      <td>Free</td>\n",
       "      <td>0</td>\n",
       "      <td>Everyone</td>\n",
       "      <td>Art &amp; Design</td>\n",
       "      <td>August 1, 2018</td>\n",
       "      <td>1.2.4</td>\n",
       "      <td>4.0.3 and up</td>\n",
       "      <td>high</td>\n",
       "    </tr>\n",
       "    <tr>\n",
       "      <th>3</th>\n",
       "      <td>Sketch - Draw &amp; Paint</td>\n",
       "      <td>ART_AND_DESIGN</td>\n",
       "      <td>4.5</td>\n",
       "      <td>12.281384</td>\n",
       "      <td>25M</td>\n",
       "      <td>50,000,000+</td>\n",
       "      <td>Free</td>\n",
       "      <td>0</td>\n",
       "      <td>Teen</td>\n",
       "      <td>Art &amp; Design</td>\n",
       "      <td>June 8, 2018</td>\n",
       "      <td>Varies with device</td>\n",
       "      <td>4.2 and up</td>\n",
       "      <td>high</td>\n",
       "    </tr>\n",
       "    <tr>\n",
       "      <th>4</th>\n",
       "      <td>Pixel Draw - Number Art Coloring Book</td>\n",
       "      <td>ART_AND_DESIGN</td>\n",
       "      <td>4.3</td>\n",
       "      <td>6.874198</td>\n",
       "      <td>2.8M</td>\n",
       "      <td>100,000+</td>\n",
       "      <td>Free</td>\n",
       "      <td>0</td>\n",
       "      <td>Everyone</td>\n",
       "      <td>Art &amp; Design;Creativity</td>\n",
       "      <td>June 20, 2018</td>\n",
       "      <td>1.1</td>\n",
       "      <td>4.4 and up</td>\n",
       "      <td>high</td>\n",
       "    </tr>\n",
       "  </tbody>\n",
       "</table>\n",
       "</div>"
      ],
      "text/plain": [
       "                                                 App        Category  Rating  \\\n",
       "0     Photo Editor & Candy Camera & Grid & ScrapBook  ART_AND_DESIGN     4.1   \n",
       "1                                Coloring book moana  ART_AND_DESIGN     3.9   \n",
       "2  U Launcher Lite – FREE Live Cool Themes, Hide ...  ART_AND_DESIGN     4.7   \n",
       "3                              Sketch - Draw & Paint  ART_AND_DESIGN     4.5   \n",
       "4              Pixel Draw - Number Art Coloring Book  ART_AND_DESIGN     4.3   \n",
       "\n",
       "     Reviews  Size     Installs  Type Price Content Rating  \\\n",
       "0   5.068904   19M      10,000+  Free     0       Everyone   \n",
       "1   6.874198   14M     500,000+  Free     0       Everyone   \n",
       "2  11.379508  8.7M   5,000,000+  Free     0       Everyone   \n",
       "3  12.281384   25M  50,000,000+  Free     0           Teen   \n",
       "4   6.874198  2.8M     100,000+  Free     0       Everyone   \n",
       "\n",
       "                      Genres      Last Updated         Current Ver  \\\n",
       "0               Art & Design   January 7, 2018               1.0.0   \n",
       "1  Art & Design;Pretend Play  January 15, 2018               2.0.0   \n",
       "2               Art & Design    August 1, 2018               1.2.4   \n",
       "3               Art & Design      June 8, 2018  Varies with device   \n",
       "4    Art & Design;Creativity     June 20, 2018                 1.1   \n",
       "\n",
       "    Android Ver Rating_category  \n",
       "0  4.0.3 and up            high  \n",
       "1  4.0.3 and up            high  \n",
       "2  4.0.3 and up            high  \n",
       "3    4.2 and up            high  \n",
       "4    4.4 and up            high  "
      ]
     },
     "execution_count": 28,
     "metadata": {},
     "output_type": "execute_result"
    }
   ],
   "source": [
    "df.head()"
   ]
  },
  {
   "cell_type": "code",
   "execution_count": 29,
   "id": "08d10def",
   "metadata": {},
   "outputs": [],
   "source": [
    "df = df.drop(df[df['Size']=='Varies with device'].index)"
   ]
  },
  {
   "cell_type": "code",
   "execution_count": 30,
   "id": "7c72e2e8",
   "metadata": {},
   "outputs": [],
   "source": [
    "df['Size']=df['Size'].str.replace('M','*1000000').str.replace('k','*1000').apply(eval)"
   ]
  },
  {
   "cell_type": "markdown",
   "id": "af02bf71",
   "metadata": {},
   "source": [
    "# <font color = 'green'> **# <font color = 'green'> **10. Check the column 'Installs', treat the unwanted characters and convert the column into a suitable data type.****"
   ]
  },
  {
   "cell_type": "code",
   "execution_count": 31,
   "id": "105e602e",
   "metadata": {},
   "outputs": [
    {
     "data": {
      "text/plain": [
       "array(['10,000+', '500,000+', '5,000,000+', '50,000,000+', '100,000+',\n",
       "       '50,000+', '1,000,000+', '10,000,000+', '5,000+', '100,000,000+',\n",
       "       '1,000+', '500,000,000+', '100+', '500+', '10+', '1,000,000,000+',\n",
       "       '5+', '50+', '1+'], dtype=object)"
      ]
     },
     "execution_count": 31,
     "metadata": {},
     "output_type": "execute_result"
    }
   ],
   "source": [
    "df['Installs'].unique()"
   ]
  },
  {
   "cell_type": "code",
   "execution_count": 32,
   "id": "b54ece18",
   "metadata": {},
   "outputs": [],
   "source": [
    "df['Installs']=df['Installs'].str.replace(',','').str.replace('+','').astype(int)"
   ]
  },
  {
   "cell_type": "markdown",
   "id": "7a183bd5",
   "metadata": {},
   "source": [
    "# <font color = 'green'> **# <font color = 'green'> **11. Check the column 'Price' , remove the unwanted characters and convert the column into a suitable data type.****"
   ]
  },
  {
   "cell_type": "code",
   "execution_count": 33,
   "id": "aba31a14",
   "metadata": {},
   "outputs": [
    {
     "data": {
      "text/html": [
       "<div>\n",
       "<style scoped>\n",
       "    .dataframe tbody tr th:only-of-type {\n",
       "        vertical-align: middle;\n",
       "    }\n",
       "\n",
       "    .dataframe tbody tr th {\n",
       "        vertical-align: top;\n",
       "    }\n",
       "\n",
       "    .dataframe thead th {\n",
       "        text-align: right;\n",
       "    }\n",
       "</style>\n",
       "<table border=\"1\" class=\"dataframe\">\n",
       "  <thead>\n",
       "    <tr style=\"text-align: right;\">\n",
       "      <th></th>\n",
       "      <th>App</th>\n",
       "      <th>Category</th>\n",
       "      <th>Rating</th>\n",
       "      <th>Reviews</th>\n",
       "      <th>Size</th>\n",
       "      <th>Installs</th>\n",
       "      <th>Type</th>\n",
       "      <th>Price</th>\n",
       "      <th>Content Rating</th>\n",
       "      <th>Genres</th>\n",
       "      <th>Last Updated</th>\n",
       "      <th>Current Ver</th>\n",
       "      <th>Android Ver</th>\n",
       "      <th>Rating_category</th>\n",
       "    </tr>\n",
       "  </thead>\n",
       "  <tbody>\n",
       "    <tr>\n",
       "      <th>0</th>\n",
       "      <td>Photo Editor &amp; Candy Camera &amp; Grid &amp; ScrapBook</td>\n",
       "      <td>ART_AND_DESIGN</td>\n",
       "      <td>4.1</td>\n",
       "      <td>5.068904</td>\n",
       "      <td>19000000.0</td>\n",
       "      <td>10000</td>\n",
       "      <td>Free</td>\n",
       "      <td>0</td>\n",
       "      <td>Everyone</td>\n",
       "      <td>Art &amp; Design</td>\n",
       "      <td>January 7, 2018</td>\n",
       "      <td>1.0.0</td>\n",
       "      <td>4.0.3 and up</td>\n",
       "      <td>high</td>\n",
       "    </tr>\n",
       "    <tr>\n",
       "      <th>1</th>\n",
       "      <td>Coloring book moana</td>\n",
       "      <td>ART_AND_DESIGN</td>\n",
       "      <td>3.9</td>\n",
       "      <td>6.874198</td>\n",
       "      <td>14000000.0</td>\n",
       "      <td>500000</td>\n",
       "      <td>Free</td>\n",
       "      <td>0</td>\n",
       "      <td>Everyone</td>\n",
       "      <td>Art &amp; Design;Pretend Play</td>\n",
       "      <td>January 15, 2018</td>\n",
       "      <td>2.0.0</td>\n",
       "      <td>4.0.3 and up</td>\n",
       "      <td>high</td>\n",
       "    </tr>\n",
       "    <tr>\n",
       "      <th>2</th>\n",
       "      <td>U Launcher Lite – FREE Live Cool Themes, Hide ...</td>\n",
       "      <td>ART_AND_DESIGN</td>\n",
       "      <td>4.7</td>\n",
       "      <td>11.379508</td>\n",
       "      <td>8700000.0</td>\n",
       "      <td>5000000</td>\n",
       "      <td>Free</td>\n",
       "      <td>0</td>\n",
       "      <td>Everyone</td>\n",
       "      <td>Art &amp; Design</td>\n",
       "      <td>August 1, 2018</td>\n",
       "      <td>1.2.4</td>\n",
       "      <td>4.0.3 and up</td>\n",
       "      <td>high</td>\n",
       "    </tr>\n",
       "    <tr>\n",
       "      <th>3</th>\n",
       "      <td>Sketch - Draw &amp; Paint</td>\n",
       "      <td>ART_AND_DESIGN</td>\n",
       "      <td>4.5</td>\n",
       "      <td>12.281384</td>\n",
       "      <td>25000000.0</td>\n",
       "      <td>50000000</td>\n",
       "      <td>Free</td>\n",
       "      <td>0</td>\n",
       "      <td>Teen</td>\n",
       "      <td>Art &amp; Design</td>\n",
       "      <td>June 8, 2018</td>\n",
       "      <td>Varies with device</td>\n",
       "      <td>4.2 and up</td>\n",
       "      <td>high</td>\n",
       "    </tr>\n",
       "    <tr>\n",
       "      <th>4</th>\n",
       "      <td>Pixel Draw - Number Art Coloring Book</td>\n",
       "      <td>ART_AND_DESIGN</td>\n",
       "      <td>4.3</td>\n",
       "      <td>6.874198</td>\n",
       "      <td>2800000.0</td>\n",
       "      <td>100000</td>\n",
       "      <td>Free</td>\n",
       "      <td>0</td>\n",
       "      <td>Everyone</td>\n",
       "      <td>Art &amp; Design;Creativity</td>\n",
       "      <td>June 20, 2018</td>\n",
       "      <td>1.1</td>\n",
       "      <td>4.4 and up</td>\n",
       "      <td>high</td>\n",
       "    </tr>\n",
       "    <tr>\n",
       "      <th>5</th>\n",
       "      <td>Paper flowers instructions</td>\n",
       "      <td>ART_AND_DESIGN</td>\n",
       "      <td>4.4</td>\n",
       "      <td>5.117994</td>\n",
       "      <td>5600000.0</td>\n",
       "      <td>50000</td>\n",
       "      <td>Free</td>\n",
       "      <td>0</td>\n",
       "      <td>Everyone</td>\n",
       "      <td>Art &amp; Design</td>\n",
       "      <td>March 26, 2017</td>\n",
       "      <td>1.0</td>\n",
       "      <td>2.3 and up</td>\n",
       "      <td>high</td>\n",
       "    </tr>\n",
       "    <tr>\n",
       "      <th>6</th>\n",
       "      <td>Smoke Effect Photo Maker - Smoke Editor</td>\n",
       "      <td>ART_AND_DESIGN</td>\n",
       "      <td>3.8</td>\n",
       "      <td>5.181784</td>\n",
       "      <td>19000000.0</td>\n",
       "      <td>50000</td>\n",
       "      <td>Free</td>\n",
       "      <td>0</td>\n",
       "      <td>Everyone</td>\n",
       "      <td>Art &amp; Design</td>\n",
       "      <td>April 26, 2018</td>\n",
       "      <td>1.1</td>\n",
       "      <td>4.0.3 and up</td>\n",
       "      <td>high</td>\n",
       "    </tr>\n",
       "    <tr>\n",
       "      <th>7</th>\n",
       "      <td>Infinite Painter</td>\n",
       "      <td>ART_AND_DESIGN</td>\n",
       "      <td>4.1</td>\n",
       "      <td>10.513661</td>\n",
       "      <td>29000000.0</td>\n",
       "      <td>1000000</td>\n",
       "      <td>Free</td>\n",
       "      <td>0</td>\n",
       "      <td>Everyone</td>\n",
       "      <td>Art &amp; Design</td>\n",
       "      <td>June 14, 2018</td>\n",
       "      <td>6.1.61.1</td>\n",
       "      <td>4.2 and up</td>\n",
       "      <td>high</td>\n",
       "    </tr>\n",
       "    <tr>\n",
       "      <th>8</th>\n",
       "      <td>Garden Coloring Book</td>\n",
       "      <td>ART_AND_DESIGN</td>\n",
       "      <td>4.4</td>\n",
       "      <td>9.531771</td>\n",
       "      <td>33000000.0</td>\n",
       "      <td>1000000</td>\n",
       "      <td>Free</td>\n",
       "      <td>0</td>\n",
       "      <td>Everyone</td>\n",
       "      <td>Art &amp; Design</td>\n",
       "      <td>September 20, 2017</td>\n",
       "      <td>2.9.2</td>\n",
       "      <td>3.0 and up</td>\n",
       "      <td>high</td>\n",
       "    </tr>\n",
       "    <tr>\n",
       "      <th>9</th>\n",
       "      <td>Kids Paint Free - Drawing Fun</td>\n",
       "      <td>ART_AND_DESIGN</td>\n",
       "      <td>4.7</td>\n",
       "      <td>4.795791</td>\n",
       "      <td>3100000.0</td>\n",
       "      <td>10000</td>\n",
       "      <td>Free</td>\n",
       "      <td>0</td>\n",
       "      <td>Everyone</td>\n",
       "      <td>Art &amp; Design;Creativity</td>\n",
       "      <td>July 3, 2018</td>\n",
       "      <td>2.8</td>\n",
       "      <td>4.0.3 and up</td>\n",
       "      <td>high</td>\n",
       "    </tr>\n",
       "  </tbody>\n",
       "</table>\n",
       "</div>"
      ],
      "text/plain": [
       "                                                 App        Category  Rating  \\\n",
       "0     Photo Editor & Candy Camera & Grid & ScrapBook  ART_AND_DESIGN     4.1   \n",
       "1                                Coloring book moana  ART_AND_DESIGN     3.9   \n",
       "2  U Launcher Lite – FREE Live Cool Themes, Hide ...  ART_AND_DESIGN     4.7   \n",
       "3                              Sketch - Draw & Paint  ART_AND_DESIGN     4.5   \n",
       "4              Pixel Draw - Number Art Coloring Book  ART_AND_DESIGN     4.3   \n",
       "5                         Paper flowers instructions  ART_AND_DESIGN     4.4   \n",
       "6            Smoke Effect Photo Maker - Smoke Editor  ART_AND_DESIGN     3.8   \n",
       "7                                   Infinite Painter  ART_AND_DESIGN     4.1   \n",
       "8                               Garden Coloring Book  ART_AND_DESIGN     4.4   \n",
       "9                      Kids Paint Free - Drawing Fun  ART_AND_DESIGN     4.7   \n",
       "\n",
       "     Reviews        Size  Installs  Type Price Content Rating  \\\n",
       "0   5.068904  19000000.0     10000  Free     0       Everyone   \n",
       "1   6.874198  14000000.0    500000  Free     0       Everyone   \n",
       "2  11.379508   8700000.0   5000000  Free     0       Everyone   \n",
       "3  12.281384  25000000.0  50000000  Free     0           Teen   \n",
       "4   6.874198   2800000.0    100000  Free     0       Everyone   \n",
       "5   5.117994   5600000.0     50000  Free     0       Everyone   \n",
       "6   5.181784  19000000.0     50000  Free     0       Everyone   \n",
       "7  10.513661  29000000.0   1000000  Free     0       Everyone   \n",
       "8   9.531771  33000000.0   1000000  Free     0       Everyone   \n",
       "9   4.795791   3100000.0     10000  Free     0       Everyone   \n",
       "\n",
       "                      Genres        Last Updated         Current Ver  \\\n",
       "0               Art & Design     January 7, 2018               1.0.0   \n",
       "1  Art & Design;Pretend Play    January 15, 2018               2.0.0   \n",
       "2               Art & Design      August 1, 2018               1.2.4   \n",
       "3               Art & Design        June 8, 2018  Varies with device   \n",
       "4    Art & Design;Creativity       June 20, 2018                 1.1   \n",
       "5               Art & Design      March 26, 2017                 1.0   \n",
       "6               Art & Design      April 26, 2018                 1.1   \n",
       "7               Art & Design       June 14, 2018            6.1.61.1   \n",
       "8               Art & Design  September 20, 2017               2.9.2   \n",
       "9    Art & Design;Creativity        July 3, 2018                 2.8   \n",
       "\n",
       "    Android Ver Rating_category  \n",
       "0  4.0.3 and up            high  \n",
       "1  4.0.3 and up            high  \n",
       "2  4.0.3 and up            high  \n",
       "3    4.2 and up            high  \n",
       "4    4.4 and up            high  \n",
       "5    2.3 and up            high  \n",
       "6  4.0.3 and up            high  \n",
       "7    4.2 and up            high  \n",
       "8    3.0 and up            high  \n",
       "9  4.0.3 and up            high  "
      ]
     },
     "execution_count": 33,
     "metadata": {},
     "output_type": "execute_result"
    }
   ],
   "source": [
    "df.head(10)"
   ]
  },
  {
   "cell_type": "code",
   "execution_count": 34,
   "id": "532c0e09",
   "metadata": {},
   "outputs": [
    {
     "data": {
      "text/plain": [
       "array(['0', '$4.99', '$6.99', '$7.99', '$3.99', '$5.99', '$2.99', '$1.99',\n",
       "       '$9.99', '$0.99', '$3.49', '$10.99', '$7.49', '$1.50', '$15.99',\n",
       "       '$79.99', '$9.00', '$24.99', '$10.00', '$16.99', '$11.99',\n",
       "       '$29.99', '$14.99', '$5.49', '$33.99', '$12.99', '$39.99',\n",
       "       '$19.99', '$4.49', '$1.70', '$1.49', '$3.88', '$399.99', '$17.99',\n",
       "       '$400.00', '$2.49', '$3.02', '$1.76', '$4.84', '$4.77', '$1.61',\n",
       "       '$1.59', '$6.49', '$1.29', '$299.99', '$379.99', '$37.99',\n",
       "       '$18.99', '$389.99', '$8.49', '$1.75', '$14.00', '$2.00', '$3.08',\n",
       "       '$2.59', '$19.40', '$15.46', '$8.99', '$3.04', '$13.99', '$4.29',\n",
       "       '$3.28', '$4.60', '$1.00', '$2.90', '$1.97', '$2.56', '$1.20'],\n",
       "      dtype=object)"
      ]
     },
     "execution_count": 34,
     "metadata": {},
     "output_type": "execute_result"
    }
   ],
   "source": [
    "df['Price'].unique()"
   ]
  },
  {
   "cell_type": "code",
   "execution_count": 35,
   "id": "ed5d3a01",
   "metadata": {},
   "outputs": [],
   "source": [
    "df['Price']=df['Price'].str.replace('$','').astype(float)"
   ]
  },
  {
   "cell_type": "markdown",
   "id": "0083197c",
   "metadata": {},
   "source": [
    "#  <font color = 'green'>  12. Drop the columns which you think redundant for the analysis.(suggestion: drop column 'rating', since we created a new feature from it (i.e. rating_category) and the columns 'App', 'Rating' ,'Genres','Last Updated', 'Current Ver','Android Ver' columns since which are redundant for our analysis)\n",
    "****"
   ]
  },
  {
   "cell_type": "code",
   "execution_count": 36,
   "id": "bc4c62e7",
   "metadata": {},
   "outputs": [
    {
     "data": {
      "text/html": [
       "<div>\n",
       "<style scoped>\n",
       "    .dataframe tbody tr th:only-of-type {\n",
       "        vertical-align: middle;\n",
       "    }\n",
       "\n",
       "    .dataframe tbody tr th {\n",
       "        vertical-align: top;\n",
       "    }\n",
       "\n",
       "    .dataframe thead th {\n",
       "        text-align: right;\n",
       "    }\n",
       "</style>\n",
       "<table border=\"1\" class=\"dataframe\">\n",
       "  <thead>\n",
       "    <tr style=\"text-align: right;\">\n",
       "      <th></th>\n",
       "      <th>App</th>\n",
       "      <th>Category</th>\n",
       "      <th>Rating</th>\n",
       "      <th>Reviews</th>\n",
       "      <th>Size</th>\n",
       "      <th>Installs</th>\n",
       "      <th>Type</th>\n",
       "      <th>Price</th>\n",
       "      <th>Content Rating</th>\n",
       "      <th>Genres</th>\n",
       "      <th>Last Updated</th>\n",
       "      <th>Current Ver</th>\n",
       "      <th>Android Ver</th>\n",
       "      <th>Rating_category</th>\n",
       "    </tr>\n",
       "  </thead>\n",
       "  <tbody>\n",
       "    <tr>\n",
       "      <th>0</th>\n",
       "      <td>Photo Editor &amp; Candy Camera &amp; Grid &amp; ScrapBook</td>\n",
       "      <td>ART_AND_DESIGN</td>\n",
       "      <td>4.1</td>\n",
       "      <td>5.068904</td>\n",
       "      <td>19000000.0</td>\n",
       "      <td>10000</td>\n",
       "      <td>Free</td>\n",
       "      <td>0.0</td>\n",
       "      <td>Everyone</td>\n",
       "      <td>Art &amp; Design</td>\n",
       "      <td>January 7, 2018</td>\n",
       "      <td>1.0.0</td>\n",
       "      <td>4.0.3 and up</td>\n",
       "      <td>high</td>\n",
       "    </tr>\n",
       "    <tr>\n",
       "      <th>1</th>\n",
       "      <td>Coloring book moana</td>\n",
       "      <td>ART_AND_DESIGN</td>\n",
       "      <td>3.9</td>\n",
       "      <td>6.874198</td>\n",
       "      <td>14000000.0</td>\n",
       "      <td>500000</td>\n",
       "      <td>Free</td>\n",
       "      <td>0.0</td>\n",
       "      <td>Everyone</td>\n",
       "      <td>Art &amp; Design;Pretend Play</td>\n",
       "      <td>January 15, 2018</td>\n",
       "      <td>2.0.0</td>\n",
       "      <td>4.0.3 and up</td>\n",
       "      <td>high</td>\n",
       "    </tr>\n",
       "    <tr>\n",
       "      <th>2</th>\n",
       "      <td>U Launcher Lite – FREE Live Cool Themes, Hide ...</td>\n",
       "      <td>ART_AND_DESIGN</td>\n",
       "      <td>4.7</td>\n",
       "      <td>11.379508</td>\n",
       "      <td>8700000.0</td>\n",
       "      <td>5000000</td>\n",
       "      <td>Free</td>\n",
       "      <td>0.0</td>\n",
       "      <td>Everyone</td>\n",
       "      <td>Art &amp; Design</td>\n",
       "      <td>August 1, 2018</td>\n",
       "      <td>1.2.4</td>\n",
       "      <td>4.0.3 and up</td>\n",
       "      <td>high</td>\n",
       "    </tr>\n",
       "    <tr>\n",
       "      <th>3</th>\n",
       "      <td>Sketch - Draw &amp; Paint</td>\n",
       "      <td>ART_AND_DESIGN</td>\n",
       "      <td>4.5</td>\n",
       "      <td>12.281384</td>\n",
       "      <td>25000000.0</td>\n",
       "      <td>50000000</td>\n",
       "      <td>Free</td>\n",
       "      <td>0.0</td>\n",
       "      <td>Teen</td>\n",
       "      <td>Art &amp; Design</td>\n",
       "      <td>June 8, 2018</td>\n",
       "      <td>Varies with device</td>\n",
       "      <td>4.2 and up</td>\n",
       "      <td>high</td>\n",
       "    </tr>\n",
       "    <tr>\n",
       "      <th>4</th>\n",
       "      <td>Pixel Draw - Number Art Coloring Book</td>\n",
       "      <td>ART_AND_DESIGN</td>\n",
       "      <td>4.3</td>\n",
       "      <td>6.874198</td>\n",
       "      <td>2800000.0</td>\n",
       "      <td>100000</td>\n",
       "      <td>Free</td>\n",
       "      <td>0.0</td>\n",
       "      <td>Everyone</td>\n",
       "      <td>Art &amp; Design;Creativity</td>\n",
       "      <td>June 20, 2018</td>\n",
       "      <td>1.1</td>\n",
       "      <td>4.4 and up</td>\n",
       "      <td>high</td>\n",
       "    </tr>\n",
       "  </tbody>\n",
       "</table>\n",
       "</div>"
      ],
      "text/plain": [
       "                                                 App        Category  Rating  \\\n",
       "0     Photo Editor & Candy Camera & Grid & ScrapBook  ART_AND_DESIGN     4.1   \n",
       "1                                Coloring book moana  ART_AND_DESIGN     3.9   \n",
       "2  U Launcher Lite – FREE Live Cool Themes, Hide ...  ART_AND_DESIGN     4.7   \n",
       "3                              Sketch - Draw & Paint  ART_AND_DESIGN     4.5   \n",
       "4              Pixel Draw - Number Art Coloring Book  ART_AND_DESIGN     4.3   \n",
       "\n",
       "     Reviews        Size  Installs  Type  Price Content Rating  \\\n",
       "0   5.068904  19000000.0     10000  Free    0.0       Everyone   \n",
       "1   6.874198  14000000.0    500000  Free    0.0       Everyone   \n",
       "2  11.379508   8700000.0   5000000  Free    0.0       Everyone   \n",
       "3  12.281384  25000000.0  50000000  Free    0.0           Teen   \n",
       "4   6.874198   2800000.0    100000  Free    0.0       Everyone   \n",
       "\n",
       "                      Genres      Last Updated         Current Ver  \\\n",
       "0               Art & Design   January 7, 2018               1.0.0   \n",
       "1  Art & Design;Pretend Play  January 15, 2018               2.0.0   \n",
       "2               Art & Design    August 1, 2018               1.2.4   \n",
       "3               Art & Design      June 8, 2018  Varies with device   \n",
       "4    Art & Design;Creativity     June 20, 2018                 1.1   \n",
       "\n",
       "    Android Ver Rating_category  \n",
       "0  4.0.3 and up            high  \n",
       "1  4.0.3 and up            high  \n",
       "2  4.0.3 and up            high  \n",
       "3    4.2 and up            high  \n",
       "4    4.4 and up            high  "
      ]
     },
     "execution_count": 36,
     "metadata": {},
     "output_type": "execute_result"
    }
   ],
   "source": [
    "df.head()"
   ]
  },
  {
   "cell_type": "code",
   "execution_count": 37,
   "id": "2278701a",
   "metadata": {},
   "outputs": [],
   "source": [
    "df.drop(['App', 'Rating' ,'Genres','Last Updated', 'Current Ver','Android Ver'],axis=1,inplace=True)"
   ]
  },
  {
   "cell_type": "code",
   "execution_count": 38,
   "id": "267be260",
   "metadata": {},
   "outputs": [
    {
     "data": {
      "text/html": [
       "<div>\n",
       "<style scoped>\n",
       "    .dataframe tbody tr th:only-of-type {\n",
       "        vertical-align: middle;\n",
       "    }\n",
       "\n",
       "    .dataframe tbody tr th {\n",
       "        vertical-align: top;\n",
       "    }\n",
       "\n",
       "    .dataframe thead th {\n",
       "        text-align: right;\n",
       "    }\n",
       "</style>\n",
       "<table border=\"1\" class=\"dataframe\">\n",
       "  <thead>\n",
       "    <tr style=\"text-align: right;\">\n",
       "      <th></th>\n",
       "      <th>Category</th>\n",
       "      <th>Reviews</th>\n",
       "      <th>Size</th>\n",
       "      <th>Installs</th>\n",
       "      <th>Type</th>\n",
       "      <th>Price</th>\n",
       "      <th>Content Rating</th>\n",
       "      <th>Rating_category</th>\n",
       "    </tr>\n",
       "  </thead>\n",
       "  <tbody>\n",
       "    <tr>\n",
       "      <th>0</th>\n",
       "      <td>ART_AND_DESIGN</td>\n",
       "      <td>5.068904</td>\n",
       "      <td>19000000.0</td>\n",
       "      <td>10000</td>\n",
       "      <td>Free</td>\n",
       "      <td>0.0</td>\n",
       "      <td>Everyone</td>\n",
       "      <td>high</td>\n",
       "    </tr>\n",
       "    <tr>\n",
       "      <th>1</th>\n",
       "      <td>ART_AND_DESIGN</td>\n",
       "      <td>6.874198</td>\n",
       "      <td>14000000.0</td>\n",
       "      <td>500000</td>\n",
       "      <td>Free</td>\n",
       "      <td>0.0</td>\n",
       "      <td>Everyone</td>\n",
       "      <td>high</td>\n",
       "    </tr>\n",
       "    <tr>\n",
       "      <th>2</th>\n",
       "      <td>ART_AND_DESIGN</td>\n",
       "      <td>11.379508</td>\n",
       "      <td>8700000.0</td>\n",
       "      <td>5000000</td>\n",
       "      <td>Free</td>\n",
       "      <td>0.0</td>\n",
       "      <td>Everyone</td>\n",
       "      <td>high</td>\n",
       "    </tr>\n",
       "    <tr>\n",
       "      <th>3</th>\n",
       "      <td>ART_AND_DESIGN</td>\n",
       "      <td>12.281384</td>\n",
       "      <td>25000000.0</td>\n",
       "      <td>50000000</td>\n",
       "      <td>Free</td>\n",
       "      <td>0.0</td>\n",
       "      <td>Teen</td>\n",
       "      <td>high</td>\n",
       "    </tr>\n",
       "    <tr>\n",
       "      <th>4</th>\n",
       "      <td>ART_AND_DESIGN</td>\n",
       "      <td>6.874198</td>\n",
       "      <td>2800000.0</td>\n",
       "      <td>100000</td>\n",
       "      <td>Free</td>\n",
       "      <td>0.0</td>\n",
       "      <td>Everyone</td>\n",
       "      <td>high</td>\n",
       "    </tr>\n",
       "  </tbody>\n",
       "</table>\n",
       "</div>"
      ],
      "text/plain": [
       "         Category    Reviews        Size  Installs  Type  Price  \\\n",
       "0  ART_AND_DESIGN   5.068904  19000000.0     10000  Free    0.0   \n",
       "1  ART_AND_DESIGN   6.874198  14000000.0    500000  Free    0.0   \n",
       "2  ART_AND_DESIGN  11.379508   8700000.0   5000000  Free    0.0   \n",
       "3  ART_AND_DESIGN  12.281384  25000000.0  50000000  Free    0.0   \n",
       "4  ART_AND_DESIGN   6.874198   2800000.0    100000  Free    0.0   \n",
       "\n",
       "  Content Rating Rating_category  \n",
       "0       Everyone            high  \n",
       "1       Everyone            high  \n",
       "2       Everyone            high  \n",
       "3           Teen            high  \n",
       "4       Everyone            high  "
      ]
     },
     "execution_count": 38,
     "metadata": {},
     "output_type": "execute_result"
    }
   ],
   "source": [
    "df.head()"
   ]
  },
  {
   "cell_type": "markdown",
   "id": "a0b056c1",
   "metadata": {},
   "source": [
    "# <font color = 'green'> **13. Encode the categorical columns.**"
   ]
  },
  {
   "cell_type": "code",
   "execution_count": 39,
   "id": "fc9a8ceb",
   "metadata": {},
   "outputs": [
    {
     "data": {
      "text/plain": [
       "Index(['Category', 'Type', 'Content Rating', 'Rating_category'], dtype='object')"
      ]
     },
     "execution_count": 39,
     "metadata": {},
     "output_type": "execute_result"
    }
   ],
   "source": [
    "df.select_dtypes(include=object).columns"
   ]
  },
  {
   "cell_type": "code",
   "execution_count": 40,
   "id": "ff7d7152",
   "metadata": {},
   "outputs": [],
   "source": [
    "object_columns=['Category', 'Reviews', 'Type', 'Content Rating', 'Rating_category']"
   ]
  },
  {
   "cell_type": "code",
   "execution_count": 41,
   "id": "0bb989e0",
   "metadata": {},
   "outputs": [],
   "source": [
    "def do_lable_encoding(s1):\n",
    "    le=LabelEncoder()\n",
    "    return le.fit_transform(s1)\n",
    "for col in object_columns:\n",
    "    df[col]=do_lable_encoding(df[col])"
   ]
  },
  {
   "cell_type": "code",
   "execution_count": 42,
   "id": "b6cbcc11",
   "metadata": {},
   "outputs": [
    {
     "data": {
      "text/html": [
       "<div>\n",
       "<style scoped>\n",
       "    .dataframe tbody tr th:only-of-type {\n",
       "        vertical-align: middle;\n",
       "    }\n",
       "\n",
       "    .dataframe tbody tr th {\n",
       "        vertical-align: top;\n",
       "    }\n",
       "\n",
       "    .dataframe thead th {\n",
       "        text-align: right;\n",
       "    }\n",
       "</style>\n",
       "<table border=\"1\" class=\"dataframe\">\n",
       "  <thead>\n",
       "    <tr style=\"text-align: right;\">\n",
       "      <th></th>\n",
       "      <th>Category</th>\n",
       "      <th>Reviews</th>\n",
       "      <th>Size</th>\n",
       "      <th>Installs</th>\n",
       "      <th>Type</th>\n",
       "      <th>Price</th>\n",
       "      <th>Content Rating</th>\n",
       "      <th>Rating_category</th>\n",
       "    </tr>\n",
       "  </thead>\n",
       "  <tbody>\n",
       "    <tr>\n",
       "      <th>0</th>\n",
       "      <td>0</td>\n",
       "      <td>158</td>\n",
       "      <td>19000000.0</td>\n",
       "      <td>10000</td>\n",
       "      <td>0</td>\n",
       "      <td>0.0</td>\n",
       "      <td>1</td>\n",
       "      <td>0</td>\n",
       "    </tr>\n",
       "    <tr>\n",
       "      <th>1</th>\n",
       "      <td>0</td>\n",
       "      <td>707</td>\n",
       "      <td>14000000.0</td>\n",
       "      <td>500000</td>\n",
       "      <td>0</td>\n",
       "      <td>0.0</td>\n",
       "      <td>1</td>\n",
       "      <td>0</td>\n",
       "    </tr>\n",
       "    <tr>\n",
       "      <th>2</th>\n",
       "      <td>0</td>\n",
       "      <td>3385</td>\n",
       "      <td>8700000.0</td>\n",
       "      <td>5000000</td>\n",
       "      <td>0</td>\n",
       "      <td>0.0</td>\n",
       "      <td>1</td>\n",
       "      <td>0</td>\n",
       "    </tr>\n",
       "    <tr>\n",
       "      <th>3</th>\n",
       "      <td>0</td>\n",
       "      <td>3858</td>\n",
       "      <td>25000000.0</td>\n",
       "      <td>50000000</td>\n",
       "      <td>0</td>\n",
       "      <td>0.0</td>\n",
       "      <td>4</td>\n",
       "      <td>0</td>\n",
       "    </tr>\n",
       "    <tr>\n",
       "      <th>4</th>\n",
       "      <td>0</td>\n",
       "      <td>707</td>\n",
       "      <td>2800000.0</td>\n",
       "      <td>100000</td>\n",
       "      <td>0</td>\n",
       "      <td>0.0</td>\n",
       "      <td>1</td>\n",
       "      <td>0</td>\n",
       "    </tr>\n",
       "  </tbody>\n",
       "</table>\n",
       "</div>"
      ],
      "text/plain": [
       "   Category  Reviews        Size  Installs  Type  Price  Content Rating  \\\n",
       "0         0      158  19000000.0     10000     0    0.0               1   \n",
       "1         0      707  14000000.0    500000     0    0.0               1   \n",
       "2         0     3385   8700000.0   5000000     0    0.0               1   \n",
       "3         0     3858  25000000.0  50000000     0    0.0               4   \n",
       "4         0      707   2800000.0    100000     0    0.0               1   \n",
       "\n",
       "   Rating_category  \n",
       "0                0  \n",
       "1                0  \n",
       "2                0  \n",
       "3                0  \n",
       "4                0  "
      ]
     },
     "execution_count": 42,
     "metadata": {},
     "output_type": "execute_result"
    }
   ],
   "source": [
    "df.head()"
   ]
  },
  {
   "cell_type": "markdown",
   "id": "de4e5411",
   "metadata": {},
   "source": [
    "# <font color = 'green'> **14. Segregate the target and independent features (Hint: Use Rating_category as the target)**"
   ]
  },
  {
   "cell_type": "code",
   "execution_count": 43,
   "id": "4440c638",
   "metadata": {},
   "outputs": [],
   "source": [
    "X=df.drop(\"Rating_category\",axis=1)"
   ]
  },
  {
   "cell_type": "code",
   "execution_count": 44,
   "id": "15fa44a0",
   "metadata": {},
   "outputs": [],
   "source": [
    "y=df[[\"Rating_category\"]]"
   ]
  },
  {
   "cell_type": "markdown",
   "id": "78c89557",
   "metadata": {},
   "source": [
    "# <font color = 'green'> **15. Split the dataset into train and test.**"
   ]
  },
  {
   "cell_type": "code",
   "execution_count": 45,
   "id": "68cbc5c5",
   "metadata": {},
   "outputs": [],
   "source": [
    "from sklearn.model_selection import train_test_split\n",
    "X_train,X_test,y_train,y_test= train_test_split(X,y,test_size=0.30)"
   ]
  },
  {
   "cell_type": "markdown",
   "id": "cfeb4ee3",
   "metadata": {},
   "source": [
    "# <font color = 'green'> **16. Standardize the data, so that the values are within a particular range.**"
   ]
  },
  {
   "cell_type": "code",
   "execution_count": 46,
   "id": "ef97f1c2",
   "metadata": {},
   "outputs": [],
   "source": [
    "from sklearn.preprocessing import MinMaxScaler\n",
    "ms= MinMaxScaler()"
   ]
  },
  {
   "cell_type": "code",
   "execution_count": 47,
   "id": "8e623249",
   "metadata": {},
   "outputs": [],
   "source": [
    "X_train=ms.fit_transform(X_train)"
   ]
  },
  {
   "cell_type": "code",
   "execution_count": 48,
   "id": "94f41fc1",
   "metadata": {},
   "outputs": [],
   "source": [
    "X_test = ms.transform(X_test)"
   ]
  },
  {
   "cell_type": "markdown",
   "id": "08b00006",
   "metadata": {},
   "source": [
    "# Model buidling - Linear Regression Model"
   ]
  },
  {
   "cell_type": "code",
   "execution_count": 49,
   "id": "4b675044",
   "metadata": {},
   "outputs": [],
   "source": [
    "from sklearn.linear_model import LinearRegression"
   ]
  },
  {
   "cell_type": "code",
   "execution_count": 50,
   "id": "3e591d33",
   "metadata": {},
   "outputs": [],
   "source": [
    "lr = LinearRegression()"
   ]
  },
  {
   "cell_type": "code",
   "execution_count": 51,
   "id": "d67a4c60",
   "metadata": {},
   "outputs": [
    {
     "data": {
      "text/html": [
       "<style>#sk-container-id-1 {color: black;}#sk-container-id-1 pre{padding: 0;}#sk-container-id-1 div.sk-toggleable {background-color: white;}#sk-container-id-1 label.sk-toggleable__label {cursor: pointer;display: block;width: 100%;margin-bottom: 0;padding: 0.3em;box-sizing: border-box;text-align: center;}#sk-container-id-1 label.sk-toggleable__label-arrow:before {content: \"▸\";float: left;margin-right: 0.25em;color: #696969;}#sk-container-id-1 label.sk-toggleable__label-arrow:hover:before {color: black;}#sk-container-id-1 div.sk-estimator:hover label.sk-toggleable__label-arrow:before {color: black;}#sk-container-id-1 div.sk-toggleable__content {max-height: 0;max-width: 0;overflow: hidden;text-align: left;background-color: #f0f8ff;}#sk-container-id-1 div.sk-toggleable__content pre {margin: 0.2em;color: black;border-radius: 0.25em;background-color: #f0f8ff;}#sk-container-id-1 input.sk-toggleable__control:checked~div.sk-toggleable__content {max-height: 200px;max-width: 100%;overflow: auto;}#sk-container-id-1 input.sk-toggleable__control:checked~label.sk-toggleable__label-arrow:before {content: \"▾\";}#sk-container-id-1 div.sk-estimator input.sk-toggleable__control:checked~label.sk-toggleable__label {background-color: #d4ebff;}#sk-container-id-1 div.sk-label input.sk-toggleable__control:checked~label.sk-toggleable__label {background-color: #d4ebff;}#sk-container-id-1 input.sk-hidden--visually {border: 0;clip: rect(1px 1px 1px 1px);clip: rect(1px, 1px, 1px, 1px);height: 1px;margin: -1px;overflow: hidden;padding: 0;position: absolute;width: 1px;}#sk-container-id-1 div.sk-estimator {font-family: monospace;background-color: #f0f8ff;border: 1px dotted black;border-radius: 0.25em;box-sizing: border-box;margin-bottom: 0.5em;}#sk-container-id-1 div.sk-estimator:hover {background-color: #d4ebff;}#sk-container-id-1 div.sk-parallel-item::after {content: \"\";width: 100%;border-bottom: 1px solid gray;flex-grow: 1;}#sk-container-id-1 div.sk-label:hover label.sk-toggleable__label {background-color: #d4ebff;}#sk-container-id-1 div.sk-serial::before {content: \"\";position: absolute;border-left: 1px solid gray;box-sizing: border-box;top: 0;bottom: 0;left: 50%;z-index: 0;}#sk-container-id-1 div.sk-serial {display: flex;flex-direction: column;align-items: center;background-color: white;padding-right: 0.2em;padding-left: 0.2em;position: relative;}#sk-container-id-1 div.sk-item {position: relative;z-index: 1;}#sk-container-id-1 div.sk-parallel {display: flex;align-items: stretch;justify-content: center;background-color: white;position: relative;}#sk-container-id-1 div.sk-item::before, #sk-container-id-1 div.sk-parallel-item::before {content: \"\";position: absolute;border-left: 1px solid gray;box-sizing: border-box;top: 0;bottom: 0;left: 50%;z-index: -1;}#sk-container-id-1 div.sk-parallel-item {display: flex;flex-direction: column;z-index: 1;position: relative;background-color: white;}#sk-container-id-1 div.sk-parallel-item:first-child::after {align-self: flex-end;width: 50%;}#sk-container-id-1 div.sk-parallel-item:last-child::after {align-self: flex-start;width: 50%;}#sk-container-id-1 div.sk-parallel-item:only-child::after {width: 0;}#sk-container-id-1 div.sk-dashed-wrapped {border: 1px dashed gray;margin: 0 0.4em 0.5em 0.4em;box-sizing: border-box;padding-bottom: 0.4em;background-color: white;}#sk-container-id-1 div.sk-label label {font-family: monospace;font-weight: bold;display: inline-block;line-height: 1.2em;}#sk-container-id-1 div.sk-label-container {text-align: center;}#sk-container-id-1 div.sk-container {/* jupyter's `normalize.less` sets `[hidden] { display: none; }` but bootstrap.min.css set `[hidden] { display: none !important; }` so we also need the `!important` here to be able to override the default hidden behavior on the sphinx rendered scikit-learn.org. See: https://github.com/scikit-learn/scikit-learn/issues/21755 */display: inline-block !important;position: relative;}#sk-container-id-1 div.sk-text-repr-fallback {display: none;}</style><div id=\"sk-container-id-1\" class=\"sk-top-container\"><div class=\"sk-text-repr-fallback\"><pre>LinearRegression()</pre><b>In a Jupyter environment, please rerun this cell to show the HTML representation or trust the notebook. <br />On GitHub, the HTML representation is unable to render, please try loading this page with nbviewer.org.</b></div><div class=\"sk-container\" hidden><div class=\"sk-item\"><div class=\"sk-estimator sk-toggleable\"><input class=\"sk-toggleable__control sk-hidden--visually\" id=\"sk-estimator-id-1\" type=\"checkbox\" checked><label for=\"sk-estimator-id-1\" class=\"sk-toggleable__label sk-toggleable__label-arrow\">LinearRegression</label><div class=\"sk-toggleable__content\"><pre>LinearRegression()</pre></div></div></div></div></div>"
      ],
      "text/plain": [
       "LinearRegression()"
      ]
     },
     "execution_count": 51,
     "metadata": {},
     "output_type": "execute_result"
    }
   ],
   "source": [
    "lr.fit(X_train,y_train)"
   ]
  },
  {
   "cell_type": "code",
   "execution_count": 52,
   "id": "05914316",
   "metadata": {},
   "outputs": [
    {
     "data": {
      "text/plain": [
       "0.05740088914468566"
      ]
     },
     "execution_count": 52,
     "metadata": {},
     "output_type": "execute_result"
    }
   ],
   "source": [
    "lr.score(X_train,y_train)"
   ]
  },
  {
   "cell_type": "code",
   "execution_count": 53,
   "id": "a59814cc",
   "metadata": {},
   "outputs": [
    {
     "data": {
      "text/plain": [
       "0.06169997444329933"
      ]
     },
     "execution_count": 53,
     "metadata": {},
     "output_type": "execute_result"
    }
   ],
   "source": [
    "lr.score(X_test,y_test)"
   ]
  },
  {
   "cell_type": "code",
   "execution_count": null,
   "id": "3e8fe0b5",
   "metadata": {},
   "outputs": [],
   "source": []
  }
 ],
 "metadata": {
  "kernelspec": {
   "display_name": "Python 3 (ipykernel)",
   "language": "python",
   "name": "python3"
  },
  "language_info": {
   "codemirror_mode": {
    "name": "ipython",
    "version": 3
   },
   "file_extension": ".py",
   "mimetype": "text/x-python",
   "name": "python",
   "nbconvert_exporter": "python",
   "pygments_lexer": "ipython3",
   "version": "3.11.5"
  }
 },
 "nbformat": 4,
 "nbformat_minor": 5
}
